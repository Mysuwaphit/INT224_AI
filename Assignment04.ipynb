{
 "cells": [
  {
   "cell_type": "code",
   "execution_count": 6,
   "id": "d2a0ae97-79c5-43b5-a938-0c9e7b620f10",
   "metadata": {},
   "outputs": [
    {
     "data": {
      "text/plain": [
       "['assignment04_model.pkl']"
      ]
     },
     "execution_count": 6,
     "metadata": {},
     "output_type": "execute_result"
    }
   ],
   "source": [
    "import numpy as np\n",
    "from sklearn.model_selection import train_test_split\n",
    "from sklearn.compose import ColumnTransformer\n",
    "from sklearn.pipeline import Pipeline\n",
    "from sklearn.preprocessing import StandardScaler, PolynomialFeatures\n",
    "from sklearn.linear_model import LinearRegression\n",
    "import pandas as pd\n",
    "from sklearn.metrics import mean_absolute_error, mean_squared_error, r2_score\n",
    "\n",
    "data = pd.read_csv(\"Student_Performance.csv\")\n",
    "\n",
    "X = data[['Hours Studied', 'Previous Scores', 'Sleep Hours']]\n",
    "y = data['Performance Index']\n",
    "\n",
    "# Split the data into training and testing sets\n",
    "X_train, X_test, y_train, y_test = train_test_split(X, y, test_size=0.2, random_state=42)\n",
    "\n",
    "# Create a ColumnTransformer to handle preprocessing for different types of features\n",
    "numeric_features = ['Hours Studied', 'Previous Scores', 'Sleep Hours']\n",
    "\n",
    "preprocessor = ColumnTransformer(\n",
    "    transformers=[\n",
    "        ('num', StandardScaler(), numeric_features)\n",
    "    ])\n",
    "\n",
    "# Define linear regression model\n",
    "Degree = 2\n",
    "polynomial_features = PolynomialFeatures(Degree)\n",
    "model = LinearRegression()\n",
    "\n",
    "# Create and fit a pipeline \n",
    "pipelines = Pipeline([\n",
    "    ('preprocessor', preprocessor),\n",
    "    ('polynomial_features', polynomial_features),\n",
    "    ('model', model)\n",
    "])\n",
    "pipelines.fit(X_train, y_train)\n",
    "y_pred = pipelines.predict(X_test)\n",
    "\n",
    "# Evaluate the performance of the regression model using MAE, MSE, R^2:\n",
    "mae = mean_absolute_error(y_test, y_pred)\n",
    "mse = mean_squared_error(y_test, y_pred)\n",
    "r2 = r2_score(y_test, y_pred)\n",
    "\n",
    "# Store the model and performance metrics in a dictionary\n",
    "model_and_metrics = {\n",
    "    'model': pipelines,\n",
    "    'mae': mae,\n",
    "    'mse': mse,\n",
    "    'r2': r2\n",
    "}\n",
    "\n",
    "# Save the dictionary containing the model and metrics to a file\n",
    "import joblib\n",
    "model_filename = \"assignment04_model.pkl\"\n",
    "joblib.dump(model_and_metrics, model_filename)"
   ]
  }
 ],
 "metadata": {
  "kernelspec": {
   "display_name": "Python 3 (ipykernel)",
   "language": "python",
   "name": "python3"
  },
  "language_info": {
   "codemirror_mode": {
    "name": "ipython",
    "version": 3
   },
   "file_extension": ".py",
   "mimetype": "text/x-python",
   "name": "python",
   "nbconvert_exporter": "python",
   "pygments_lexer": "ipython3",
   "version": "3.11.5"
  }
 },
 "nbformat": 4,
 "nbformat_minor": 5
}
