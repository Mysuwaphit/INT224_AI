{
 "cells": [
  {
   "cell_type": "code",
   "execution_count": 2,
   "id": "6df519cc-45c8-4361-b276-967b8e98d2cb",
   "metadata": {},
   "outputs": [
    {
     "name": "stdout",
     "output_type": "stream",
     "text": [
      "Mean Absolute Error: 1.7041350163621223\n",
      "Mean Squared Error: 4.54387525936063\n",
      "R-squared (R^2): 0.9877386460945705\n"
     ]
    }
   ],
   "source": [
    "import numpy as np\n",
    "from sklearn.model_selection import train_test_split\n",
    "from sklearn.compose import ColumnTransformer\n",
    "from sklearn.pipeline import Pipeline\n",
    "from sklearn.preprocessing import StandardScaler, OneHotEncoder\n",
    "from sklearn.linear_model import LinearRegression\n",
    "from sklearn . preprocessing import PolynomialFeatures\n",
    "import pandas as pd\n",
    "from sklearn.metrics import mean_absolute_error, mean_squared_error, r2_score\n",
    "\n",
    "data = pd.read_csv(\"Student_Performance.csv\")\n",
    "data.head(10)\n",
    "\n",
    "X = data[['Hours Studied', 'Previous Scores','Sleep Hours']]\n",
    "y = data['Performance Index']\n",
    "\n",
    "# Split the data into training and testing sets\n",
    "X_train, X_test, y_train, y_test = train_test_split(X, y, test_size=0.2, random_state=42)\n",
    "\n",
    "# # Create a ColumnTransformer to handle preprocessing for different types of features\n",
    "# numeric_features = ['Hours Studied', 'Previous Scores', 'Sleep Hours']\n",
    "# # categorical_features = ['Extracurricular Activities']\n",
    "\n",
    "# preprocessor = ColumnTransformer(\n",
    "#     transformers=[\n",
    "#         ('num', StandardScaler(), numeric_features)\n",
    "#         # ,('cat', OneHotEncoder(), categorical_features)\n",
    "#     ])\n",
    "\n",
    "# # Define linear regression model\n",
    "# Degree = 2\n",
    "# polynomial_features = PolynomialFeatures(Degree)  # You can adjust the degree as needed\n",
    "# model = LinearRegression()\n",
    "\n",
    "\n",
    "# # Create and fit a pipeline \n",
    "# pipelines = Pipeline([\n",
    "#     ('preprocessor', preprocessor),\n",
    "#     ('polynomial_features', polynomial_features),\n",
    "#     ('model', model)\n",
    "# ])\n",
    "# pipeline.fit(X_train, y_train)\n",
    "# y_pred = pipelines.predict(X_test)\n",
    "# Create a linear regression model\n",
    "model = LinearRegression()\n",
    "\n",
    "# Fit the model to the training data\n",
    "model.fit(X_train, y_train)\n",
    "# Make predictions on the test set\n",
    "y_pred = model.predict(X_test)\n",
    "\n",
    "# Evaluate the performance of regression model using MAE, MSE, R^2:\n",
    "mae = mean_absolute_error(y_test, y_pred)\n",
    "mse = mean_squared_error(y_test, y_pred)\n",
    "r2 = r2_score(y_test, y_pred)\n",
    "\n",
    "print(f'Mean Absolute Error: {mae}')\n",
    "print(f'Mean Squared Error: {mse}')\n",
    "print(f'R-squared (R^2): {r2}')\n",
    "\n",
    "import joblib\n",
    "\n",
    "# Save the trained model to a file\n",
    "model_filename = \"assignment04_model.pkl\"\n",
    "joblib.dump(pipelines, model_filename)"
   ]
  }
 ],
 "metadata": {
  "kernelspec": {
   "display_name": "Python 3 (ipykernel)",
   "language": "python",
   "name": "python3"
  },
  "language_info": {
   "codemirror_mode": {
    "name": "ipython",
    "version": 3
   },
   "file_extension": ".py",
   "mimetype": "text/x-python",
   "name": "python",
   "nbconvert_exporter": "python",
   "pygments_lexer": "ipython3",
   "version": "3.11.5"
  }
 },
 "nbformat": 4,
 "nbformat_minor": 5
}
